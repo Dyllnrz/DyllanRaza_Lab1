{
  "nbformat": 4,
  "nbformat_minor": 0,
  "metadata": {
    "colab": {
      "name": "[NRC_6292] DyllanRaza_Lab1.ipynb",
      "provenance": [],
      "collapsed_sections": []
    },
    "kernelspec": {
      "name": "python3",
      "display_name": "Python 3"
    },
    "language_info": {
      "name": "python"
    }
  },
  "cells": [
    {
      "cell_type": "code",
      "execution_count": 71,
      "metadata": {
        "colab": {
          "base_uri": "https://localhost:8080/"
        },
        "id": "HznV-HPuDaBE",
        "outputId": "5cc2c7ee-4d11-4a63-878d-9f4d1cdc1707"
      },
      "outputs": [
        {
          "output_type": "stream",
          "name": "stdout",
          "text": [
            "Importación de librerías requeridas para la ejecución\n"
          ]
        }
      ],
      "source": [
        "def imprt():\n",
        "  '''Importación de librerías requeridas para la ejecución''';\n",
        "import pandas as pd\n",
        "from sklearn.model_selection import train_test_split\n",
        "from sklearn import svm\n",
        "from sklearn import metrics\n",
        "from sklearn import datasets\n",
        "from sklearn.metrics import confusion_matrix\n",
        "import seaborn as sb\n",
        "import matplotlib.pyplot as plot\n",
        "print(imprt.__doc__)"
      ]
    },
    {
      "cell_type": "code",
      "source": [
        "def datset(x):\n",
        "  \"\"\"Creación del dataset mediante llamado a dataset de sklearn 'iris'\"\"\"\n",
        "dic = datasets.load_iris()\n",
        "print(datset.__doc__)\n",
        "data = pd.DataFrame(data= dic['data'],\n",
        "                    columns= dic['feature_names'])\n",
        "\n",
        "y = dic['target']\n",
        "print(y[:10])\n",
        "data.head(10)"
      ],
      "metadata": {
        "colab": {
          "base_uri": "https://localhost:8080/",
          "height": 399
        },
        "id": "SLKR9-bQFBba",
        "outputId": "81b46ee3-9ec4-4c2c-9880-4c3fa3370299"
      },
      "execution_count": 42,
      "outputs": [
        {
          "output_type": "stream",
          "name": "stdout",
          "text": [
            "Creación del dataset mediante llamado a dataset de sklearn 'iris'\n",
            "[0 0 0 0 0 0 0 0 0 0]\n"
          ]
        },
        {
          "output_type": "execute_result",
          "data": {
            "text/plain": [
              "   sepal length (cm)  sepal width (cm)  petal length (cm)  petal width (cm)\n",
              "0                5.1               3.5                1.4               0.2\n",
              "1                4.9               3.0                1.4               0.2\n",
              "2                4.7               3.2                1.3               0.2\n",
              "3                4.6               3.1                1.5               0.2\n",
              "4                5.0               3.6                1.4               0.2\n",
              "5                5.4               3.9                1.7               0.4\n",
              "6                4.6               3.4                1.4               0.3\n",
              "7                5.0               3.4                1.5               0.2\n",
              "8                4.4               2.9                1.4               0.2\n",
              "9                4.9               3.1                1.5               0.1"
            ],
            "text/html": [
              "\n",
              "  <div id=\"df-6535241c-f702-48dc-a749-12253aebb8f4\">\n",
              "    <div class=\"colab-df-container\">\n",
              "      <div>\n",
              "<style scoped>\n",
              "    .dataframe tbody tr th:only-of-type {\n",
              "        vertical-align: middle;\n",
              "    }\n",
              "\n",
              "    .dataframe tbody tr th {\n",
              "        vertical-align: top;\n",
              "    }\n",
              "\n",
              "    .dataframe thead th {\n",
              "        text-align: right;\n",
              "    }\n",
              "</style>\n",
              "<table border=\"1\" class=\"dataframe\">\n",
              "  <thead>\n",
              "    <tr style=\"text-align: right;\">\n",
              "      <th></th>\n",
              "      <th>sepal length (cm)</th>\n",
              "      <th>sepal width (cm)</th>\n",
              "      <th>petal length (cm)</th>\n",
              "      <th>petal width (cm)</th>\n",
              "    </tr>\n",
              "  </thead>\n",
              "  <tbody>\n",
              "    <tr>\n",
              "      <th>0</th>\n",
              "      <td>5.1</td>\n",
              "      <td>3.5</td>\n",
              "      <td>1.4</td>\n",
              "      <td>0.2</td>\n",
              "    </tr>\n",
              "    <tr>\n",
              "      <th>1</th>\n",
              "      <td>4.9</td>\n",
              "      <td>3.0</td>\n",
              "      <td>1.4</td>\n",
              "      <td>0.2</td>\n",
              "    </tr>\n",
              "    <tr>\n",
              "      <th>2</th>\n",
              "      <td>4.7</td>\n",
              "      <td>3.2</td>\n",
              "      <td>1.3</td>\n",
              "      <td>0.2</td>\n",
              "    </tr>\n",
              "    <tr>\n",
              "      <th>3</th>\n",
              "      <td>4.6</td>\n",
              "      <td>3.1</td>\n",
              "      <td>1.5</td>\n",
              "      <td>0.2</td>\n",
              "    </tr>\n",
              "    <tr>\n",
              "      <th>4</th>\n",
              "      <td>5.0</td>\n",
              "      <td>3.6</td>\n",
              "      <td>1.4</td>\n",
              "      <td>0.2</td>\n",
              "    </tr>\n",
              "    <tr>\n",
              "      <th>5</th>\n",
              "      <td>5.4</td>\n",
              "      <td>3.9</td>\n",
              "      <td>1.7</td>\n",
              "      <td>0.4</td>\n",
              "    </tr>\n",
              "    <tr>\n",
              "      <th>6</th>\n",
              "      <td>4.6</td>\n",
              "      <td>3.4</td>\n",
              "      <td>1.4</td>\n",
              "      <td>0.3</td>\n",
              "    </tr>\n",
              "    <tr>\n",
              "      <th>7</th>\n",
              "      <td>5.0</td>\n",
              "      <td>3.4</td>\n",
              "      <td>1.5</td>\n",
              "      <td>0.2</td>\n",
              "    </tr>\n",
              "    <tr>\n",
              "      <th>8</th>\n",
              "      <td>4.4</td>\n",
              "      <td>2.9</td>\n",
              "      <td>1.4</td>\n",
              "      <td>0.2</td>\n",
              "    </tr>\n",
              "    <tr>\n",
              "      <th>9</th>\n",
              "      <td>4.9</td>\n",
              "      <td>3.1</td>\n",
              "      <td>1.5</td>\n",
              "      <td>0.1</td>\n",
              "    </tr>\n",
              "  </tbody>\n",
              "</table>\n",
              "</div>\n",
              "      <button class=\"colab-df-convert\" onclick=\"convertToInteractive('df-6535241c-f702-48dc-a749-12253aebb8f4')\"\n",
              "              title=\"Convert this dataframe to an interactive table.\"\n",
              "              style=\"display:none;\">\n",
              "        \n",
              "  <svg xmlns=\"http://www.w3.org/2000/svg\" height=\"24px\"viewBox=\"0 0 24 24\"\n",
              "       width=\"24px\">\n",
              "    <path d=\"M0 0h24v24H0V0z\" fill=\"none\"/>\n",
              "    <path d=\"M18.56 5.44l.94 2.06.94-2.06 2.06-.94-2.06-.94-.94-2.06-.94 2.06-2.06.94zm-11 1L8.5 8.5l.94-2.06 2.06-.94-2.06-.94L8.5 2.5l-.94 2.06-2.06.94zm10 10l.94 2.06.94-2.06 2.06-.94-2.06-.94-.94-2.06-.94 2.06-2.06.94z\"/><path d=\"M17.41 7.96l-1.37-1.37c-.4-.4-.92-.59-1.43-.59-.52 0-1.04.2-1.43.59L10.3 9.45l-7.72 7.72c-.78.78-.78 2.05 0 2.83L4 21.41c.39.39.9.59 1.41.59.51 0 1.02-.2 1.41-.59l7.78-7.78 2.81-2.81c.8-.78.8-2.07 0-2.86zM5.41 20L4 18.59l7.72-7.72 1.47 1.35L5.41 20z\"/>\n",
              "  </svg>\n",
              "      </button>\n",
              "      \n",
              "  <style>\n",
              "    .colab-df-container {\n",
              "      display:flex;\n",
              "      flex-wrap:wrap;\n",
              "      gap: 12px;\n",
              "    }\n",
              "\n",
              "    .colab-df-convert {\n",
              "      background-color: #E8F0FE;\n",
              "      border: none;\n",
              "      border-radius: 50%;\n",
              "      cursor: pointer;\n",
              "      display: none;\n",
              "      fill: #1967D2;\n",
              "      height: 32px;\n",
              "      padding: 0 0 0 0;\n",
              "      width: 32px;\n",
              "    }\n",
              "\n",
              "    .colab-df-convert:hover {\n",
              "      background-color: #E2EBFA;\n",
              "      box-shadow: 0px 1px 2px rgba(60, 64, 67, 0.3), 0px 1px 3px 1px rgba(60, 64, 67, 0.15);\n",
              "      fill: #174EA6;\n",
              "    }\n",
              "\n",
              "    [theme=dark] .colab-df-convert {\n",
              "      background-color: #3B4455;\n",
              "      fill: #D2E3FC;\n",
              "    }\n",
              "\n",
              "    [theme=dark] .colab-df-convert:hover {\n",
              "      background-color: #434B5C;\n",
              "      box-shadow: 0px 1px 3px 1px rgba(0, 0, 0, 0.15);\n",
              "      filter: drop-shadow(0px 1px 2px rgba(0, 0, 0, 0.3));\n",
              "      fill: #FFFFFF;\n",
              "    }\n",
              "  </style>\n",
              "\n",
              "      <script>\n",
              "        const buttonEl =\n",
              "          document.querySelector('#df-6535241c-f702-48dc-a749-12253aebb8f4 button.colab-df-convert');\n",
              "        buttonEl.style.display =\n",
              "          google.colab.kernel.accessAllowed ? 'block' : 'none';\n",
              "\n",
              "        async function convertToInteractive(key) {\n",
              "          const element = document.querySelector('#df-6535241c-f702-48dc-a749-12253aebb8f4');\n",
              "          const dataTable =\n",
              "            await google.colab.kernel.invokeFunction('convertToInteractive',\n",
              "                                                     [key], {});\n",
              "          if (!dataTable) return;\n",
              "\n",
              "          const docLinkHtml = 'Like what you see? Visit the ' +\n",
              "            '<a target=\"_blank\" href=https://colab.research.google.com/notebooks/data_table.ipynb>data table notebook</a>'\n",
              "            + ' to learn more about interactive tables.';\n",
              "          element.innerHTML = '';\n",
              "          dataTable['output_type'] = 'display_data';\n",
              "          await google.colab.output.renderOutput(dataTable, element);\n",
              "          const docLink = document.createElement('div');\n",
              "          docLink.innerHTML = docLinkHtml;\n",
              "          element.appendChild(docLink);\n",
              "        }\n",
              "      </script>\n",
              "    </div>\n",
              "  </div>\n",
              "  "
            ]
          },
          "metadata": {},
          "execution_count": 42
        }
      ]
    },
    {
      "cell_type": "code",
      "source": [
        "def feat():\n",
        "  '''Impresión de los nombres de las características'''\n",
        "print(\"Features:\\n\", dic.feature_names)\n",
        "print(feat.__doc__)"
      ],
      "metadata": {
        "colab": {
          "base_uri": "https://localhost:8080/"
        },
        "id": "wXZXEzZ_FNoi",
        "outputId": "b1fc24fb-af2b-4476-c639-686929f244c3"
      },
      "execution_count": 43,
      "outputs": [
        {
          "output_type": "stream",
          "name": "stdout",
          "text": [
            "Features:\n",
            " ['sepal length (cm)', 'sepal width (cm)', 'petal length (cm)', 'petal width (cm)']\n",
            "Impresión de los nombres de las características\n"
          ]
        }
      ]
    },
    {
      "cell_type": "code",
      "source": [
        "def labl():\n",
        "  '''Impresión de los tipos de Iris'''\n",
        "print(\"Labels:\\n\", dic.target_names)\n",
        "print(labl.__doc__)"
      ],
      "metadata": {
        "colab": {
          "base_uri": "https://localhost:8080/"
        },
        "id": "iX2LshmDQThM",
        "outputId": "e84b0899-a4c0-4176-91a2-555b76e4db7b"
      },
      "execution_count": 44,
      "outputs": [
        {
          "output_type": "stream",
          "name": "stdout",
          "text": [
            "Labels:\n",
            " ['setosa' 'versicolor' 'virginica']\n",
            "Impresión de los tipos de Iris\n"
          ]
        }
      ]
    },
    {
      "cell_type": "code",
      "source": [
        "def shap():\n",
        "  '''Impresión del Shape'''\n",
        "print(\"Shape:\\n\", dic.data.shape)\n",
        "print(shap.__doc__)"
      ],
      "metadata": {
        "colab": {
          "base_uri": "https://localhost:8080/"
        },
        "id": "McW8trUPQWb0",
        "outputId": "98a86277-08ab-4d37-c867-23f7e3145a98"
      },
      "execution_count": 45,
      "outputs": [
        {
          "output_type": "stream",
          "name": "stdout",
          "text": [
            "Shape:\n",
            " (150, 4)\n",
            "Impresión del Shape\n"
          ]
        }
      ]
    },
    {
      "cell_type": "code",
      "source": [
        "def top5():\n",
        "  '''Impresión del top 5 de datos'''\n",
        "print(\"Top 5:\\n\", dic.data[0:5])\n",
        "print(top5.__doc__)"
      ],
      "metadata": {
        "colab": {
          "base_uri": "https://localhost:8080/"
        },
        "id": "0s0lG1lhQZek",
        "outputId": "496057e2-c7fa-43c1-c346-a05a14b1ccfd"
      },
      "execution_count": 46,
      "outputs": [
        {
          "output_type": "stream",
          "name": "stdout",
          "text": [
            "Top 5:\n",
            " [[5.1 3.5 1.4 0.2]\n",
            " [4.9 3.  1.4 0.2]\n",
            " [4.7 3.2 1.3 0.2]\n",
            " [4.6 3.1 1.5 0.2]\n",
            " [5.  3.6 1.4 0.2]]\n",
            "Impresión del top 5 de datos\n"
          ]
        }
      ]
    },
    {
      "cell_type": "code",
      "source": [
        "def blocp():\n",
        "  '''Definición de bloque de entrenamiento'''\n",
        "X = dic.data\n",
        "y = dic.target\n",
        "X_train, X_test, y_train, y_test = train_test_split(X, y, test_size=0.3, random_state=20)\n",
        "print(blocp.__doc__)"
      ],
      "metadata": {
        "colab": {
          "base_uri": "https://localhost:8080/"
        },
        "id": "zlFVg1KuGfAx",
        "outputId": "84bb5b05-50d9-40d8-fd2f-cb56c149640e"
      },
      "execution_count": 52,
      "outputs": [
        {
          "output_type": "stream",
          "name": "stdout",
          "text": [
            "Definición de bloque de entrenamiento\n"
          ]
        }
      ]
    },
    {
      "cell_type": "code",
      "source": [
        "def krnl():\n",
        "  '''Definición del kernel lineal'''\n",
        "clf = svm.SVC(kernel='linear')\n",
        "print(krnl.__doc__)"
      ],
      "metadata": {
        "colab": {
          "base_uri": "https://localhost:8080/"
        },
        "id": "-un82CNGGo3I",
        "outputId": "c1164393-8c7b-46f0-ffb3-b093af3ccff9"
      },
      "execution_count": 50,
      "outputs": [
        {
          "output_type": "stream",
          "name": "stdout",
          "text": [
            "Definición del kernel lineal\n"
          ]
        }
      ]
    },
    {
      "cell_type": "code",
      "source": [
        "def entr():\n",
        "  '''Entrenamiento del modelo planteado'''\n",
        "clf.fit(X_train, y_train)\n",
        "print(clf)\n",
        "print(entr.__doc__)"
      ],
      "metadata": {
        "colab": {
          "base_uri": "https://localhost:8080/"
        },
        "id": "2M16x8bTGrxA",
        "outputId": "e5638727-2f5a-4b2c-e450-a45091c68811"
      },
      "execution_count": 53,
      "outputs": [
        {
          "output_type": "stream",
          "name": "stdout",
          "text": [
            "SVC(kernel='linear')\n",
            "Entrenamiento del modelo planteado\n"
          ]
        }
      ]
    },
    {
      "cell_type": "code",
      "source": [
        "def prdob():\n",
        "  '''Predicción del objetivo para los datos de prueba'''\n",
        "y_pred = clf.predict(X_test)\n",
        "print(y_pred)\n",
        "print(y_test)\n",
        "print(prdob.__doc__)"
      ],
      "metadata": {
        "colab": {
          "base_uri": "https://localhost:8080/"
        },
        "id": "5gOiHz0HG6i4",
        "outputId": "66b6f0f0-e6be-4608-e805-80c8642150f6"
      },
      "execution_count": 54,
      "outputs": [
        {
          "output_type": "stream",
          "name": "stdout",
          "text": [
            "[0 1 1 2 1 1 2 0 2 0 2 1 1 0 0 2 0 1 2 1 1 2 2 0 1 1 1 0 2 1 1 1 0 0 0 1 1\n",
            " 0 1 2 1 2 0 1 1]\n",
            "[0 1 1 2 1 1 2 0 2 0 2 1 2 0 0 2 0 1 2 1 1 2 2 0 1 1 1 0 2 2 1 1 0 0 0 2 1\n",
            " 0 1 2 1 2 0 1 1]\n",
            "Predicción del objetivo para los datos de prueba\n"
          ]
        }
      ]
    },
    {
      "cell_type": "code",
      "source": [
        "def acc():\n",
        "  '''Impresión del cálculo del acurracy'''\n",
        "print(\"Accuracy:\", metrics.accuracy_score(y_test, y_pred))\n",
        "print(acc.__doc__)"
      ],
      "metadata": {
        "colab": {
          "base_uri": "https://localhost:8080/"
        },
        "id": "kKv9LKqbHBKB",
        "outputId": "9ce8336f-2fa9-47ed-e379-79a7bbefae18"
      },
      "execution_count": 55,
      "outputs": [
        {
          "output_type": "stream",
          "name": "stdout",
          "text": [
            "Accuracy: 0.9333333333333333\n",
            "Impresión del cálculo del acurracy\n"
          ]
        }
      ]
    },
    {
      "cell_type": "code",
      "source": [
        "def prc():\n",
        "  '''Impresión del cálculo de la presición'''\n",
        "print(\"Precision:\\n\", metrics.precision_score(y_test, y_pred, average = 'macro'))\n",
        "print(prc.__doc__)"
      ],
      "metadata": {
        "colab": {
          "base_uri": "https://localhost:8080/"
        },
        "id": "VUzvBkqbHbNB",
        "outputId": "ccc6c247-97d3-43c3-b5d0-79d0f76b192d"
      },
      "execution_count": 56,
      "outputs": [
        {
          "output_type": "stream",
          "name": "stdout",
          "text": [
            "Precision:\n",
            " 0.9523809523809524\n",
            "Impresión del cálculo de la presición\n"
          ]
        }
      ]
    },
    {
      "cell_type": "code",
      "source": [
        "def rec():\n",
        "  '''Impresión del cálculo de recall'''\n",
        "print(\"Recall:\\n\", metrics.recall_score(y_test, y_pred, average='macro'))\n",
        "print(rec.__doc__)"
      ],
      "metadata": {
        "colab": {
          "base_uri": "https://localhost:8080/"
        },
        "id": "xXL-Tus1H4cR",
        "outputId": "f1a88933-54b0-4d40-fe79-f6ec4e13f1c8"
      },
      "execution_count": 57,
      "outputs": [
        {
          "output_type": "stream",
          "name": "stdout",
          "text": [
            "Recall:\n",
            " 0.9285714285714285\n",
            "Impresión del cálculo de recall\n"
          ]
        }
      ]
    },
    {
      "cell_type": "code",
      "source": [
        "def conf():\n",
        "  '''Definición de la matriz de confusión'''\n",
        "ConfMatrx = confusion_matrix(y_test, y_pred)\n",
        "print(ConfMatrx)\n",
        "print(conf.__doc__)"
      ],
      "metadata": {
        "colab": {
          "base_uri": "https://localhost:8080/"
        },
        "id": "rDSXi1PrDNXU",
        "outputId": "ceb621a5-54c3-4c3c-a5f4-ab8aa9e71999"
      },
      "execution_count": 74,
      "outputs": [
        {
          "output_type": "stream",
          "name": "stdout",
          "text": [
            "[[13  0  0]\n",
            " [ 0 18  0]\n",
            " [ 0  3 11]]\n",
            "Definición de la matriz de confusión\n"
          ]
        }
      ]
    },
    {
      "cell_type": "code",
      "source": [
        "def dfmat():\n",
        "  '''Configuración del gráfico correspondiente al dataset'''\n",
        "ConfMatrx_df = pd.DataFrame(ConfMatrx, index = dic.target_names, columns = dic.target_names)\n",
        "print(dfmat.__doc__)"
      ],
      "metadata": {
        "colab": {
          "base_uri": "https://localhost:8080/"
        },
        "id": "pKtLES54DzZh",
        "outputId": "cc27cbe1-407c-44ec-b311-266859d9fe97"
      },
      "execution_count": 78,
      "outputs": [
        {
          "output_type": "stream",
          "name": "stdout",
          "text": [
            "Configuración del gráfico correspondiente al dataset\n"
          ]
        }
      ]
    },
    {
      "cell_type": "code",
      "source": [
        "plot.figure(figsize=(5,4))\n",
        "sb.heatmap(ConfMatrx_df, annot=True)\n",
        "plot.title('Matriz de confusion')\n",
        "plot.ylabel('Actual')\n",
        "plot.xlabel('Prediccion')\n",
        "plot.show()"
      ],
      "metadata": {
        "colab": {
          "base_uri": "https://localhost:8080/",
          "height": 295
        },
        "id": "UbOJaekpF4JB",
        "outputId": "b0befe7a-6392-4e22-c908-5305b188369f"
      },
      "execution_count": 81,
      "outputs": [
        {
          "output_type": "display_data",
          "data": {
            "text/plain": [
              "<Figure size 360x288 with 2 Axes>"
            ],
            "image/png": "[encoded data removed]"
          },
          "metadata": {
            "needs_background": "light"
          }
        }
      ]
    }
  ]
}